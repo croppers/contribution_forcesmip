{
 "cells": [
  {
   "cell_type": "code",
   "execution_count": null,
   "metadata": {},
   "outputs": [],
   "source": [
    "import numpy as np\n",
    "import os\n",
    "import pickle as pk\n",
    "from sklearn.decomposition import PCA\n",
    "import xarray as xr"
   ]
  },
  {
   "cell_type": "code",
   "execution_count": null,
   "metadata": {},
   "outputs": [],
   "source": [
    "path='~/ForceSMIP/'\n",
    "models=['CanESM5', 'CESM2', 'MIROC-ES2L', 'MIROC6', 'MPI-ESM1-2-LR']"
   ]
  },
  {
   "cell_type": "code",
   "execution_count": null,
   "metadata": {},
   "outputs": [],
   "source": [
    "def list_files(model, variable, domain):\n",
    "    return os.listdir(path+'Training-Ext/'+domain+'/'+variable+'/'+model)\n",
    "\n",
    "def build_forced_signal(model, variable, domain):\n",
    "    realizations=[]\n",
    "    files=list_files(model, variable, domain)\n",
    "    for i in range(len(files)):\n",
    "        realizations.append(xr.open_dataset(path+'Training-Ext/'+domain+'/'+variable+'/'+model+'/'+files[i]))\n",
    "    return xr.concat(realizations, dim='realization').mean('realization')"
   ]
  },
  {
   "cell_type": "code",
   "execution_count": null,
   "metadata": {},
   "outputs": [],
   "source": [
    "variables=['tas','pr','psl',]\n",
    "domain='Amon'\n",
    "for model in models:\n",
    "    for variable in variables:\n",
    "        ds=build_forced_signal(model, variable, domain)\n",
    "        ds.to_netcdf(path+'forced_signals/'+model+'_'+variable+'.nc')\n",
    "\n",
    "variables=['monmaxpr','monmaxtasmax','monmintasmin',]\n",
    "domain='Aday'\n",
    "for model in models:\n",
    "    for variable in variables:\n",
    "        ds=build_forced_signal(model, variable, domain)\n",
    "        ds.to_netcdf(path+'forced_signals/'+model+'_'+variable+'.nc')\n",
    "\n",
    "variables=['tos',]\n",
    "domain='Omon'\n",
    "for model in models:\n",
    "    for variable in variables:\n",
    "        ds=build_forced_signal(model, variable, domain)\n",
    "        ds.to_netcdf(path+'forced_signals/'+model+'_'+variable+'.nc')"
   ]
  }
 ],
 "metadata": {
  "language_info": {
   "name": "python"
  }
 },
 "nbformat": 4,
 "nbformat_minor": 2
}
