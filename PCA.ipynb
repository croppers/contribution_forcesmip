{
 "cells": [
  {
   "cell_type": "code",
   "execution_count": null,
   "metadata": {},
   "outputs": [],
   "source": [
    "import numpy as np\n",
    "import os\n",
    "import pickle as pk\n",
    "from sklearn.decomposition import PCA\n",
    "import xarray as xr\n",
    "\n",
    "# set the path to the training data\n",
    "path='~/ForceSMIP/'"
   ]
  },
  {
   "cell_type": "code",
   "execution_count": null,
   "metadata": {},
   "outputs": [],
   "source": [
    "def list_files(model, variable, domain):\n",
    "    return os.listdir(path+'Training-Ext/'+domain+'/'+variable+'/'+model)\n",
    "\n",
    "def fit_pca(model,variable,domain,variable_name):\n",
    "    files=list_files(model, variable, domain)\n",
    "    i=0\n",
    "    time_lag=5*12\n",
    "    features_raw=[]\n",
    "    ds=xr.open_dataset(path+'/'+domain+'/'+variable+'/'+model+'/'+files[i])\n",
    "    for j in range(0,len(ds.time)-time_lag,10):\n",
    "        feature=ds.isel(time=slice(j,j+time_lag))[variable_name].values.flatten()\n",
    "        feature=np.nan_to_num(feature, nan=0)\n",
    "        features_raw.append(feature)\n",
    "    pca = PCA(n_components=10)\n",
    "    pca.fit(features_raw)\n",
    "    pk.dump(pca, open('PCA_data/'+model+'_'+variable+'_'+'pca.pkl','wb'))\n",
    "    features=[]\n",
    "    times=[]\n",
    "    for i in range(1,len(files)):\n",
    "        print(i/len(files))\n",
    "        ds=xr.open_dataset(path+'/'+domain+'/'+variable+'/'+model+'/'+files[i])\n",
    "        for j in range(len(ds.time)-time_lag):\n",
    "            times.append(j+time_lag)\n",
    "            feature=ds.isel(time=slice(j,j+time_lag))[variable_name].values.flatten()\n",
    "            feature=np.nan_to_num(feature, nan=0).reshape(1, -1)\n",
    "            features.append(pca.transform(feature))\n",
    "    np.save(path+'PCA_data/'+model+'_'+variable+'_'+'times.npy',times)\n",
    "    np.save(path+'PCA_data/'+model+'_'+variable+'_'+'features.npy',features)"
   ]
  },
  {
   "cell_type": "code",
   "execution_count": null,
   "metadata": {},
   "outputs": [],
   "source": [
    "variables=['pr','psl','tas','tos','monmaxtasmax','monmintasmin','monmaxpr']\n",
    "variable_names=['pr','psl','tas','tos','tasmax','tasmin','pr']\n",
    "domains=['Amon','Amon','Amon','Omon','Aday','Aday','Aday']\n",
    "models=['CanESM5', 'CESM2', 'MIROC-ES2L', 'MIROC6', 'MPI-ESM1-2-LR']\n",
    "\n",
    "for model in models:\n",
    "    for i in range(len(variables)):\n",
    "        fit_pca(model,variables[i],domains[i],variable_names[i])"
   ]
  }
 ],
 "metadata": {
  "language_info": {
   "name": "python"
  }
 },
 "nbformat": 4,
 "nbformat_minor": 2
}
